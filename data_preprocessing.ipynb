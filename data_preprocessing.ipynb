{
 "cells": [
  {
   "cell_type": "markdown",
   "metadata": {
    "id": "QgP_sOcVnfko"
   },
   "source": [
    "# **Source**\n",
    "1.   Theory: https://towardsdatascience.com/preprocessing-with-sklearn-a-complete-and-comprehensive-guide-670cb98fcfb9\n",
    "2.   Documentation: https://scikit-learn.org/stable/modules/preprocessing.html\n",
    "\n"
   ]
  },
  {
   "cell_type": "markdown",
   "metadata": {
    "id": "3WhjPulezUbO"
   },
   "source": [
    "# **1. Missing data**"
   ]
  },
  {
   "cell_type": "code",
   "execution_count": 1,
   "metadata": {
    "id": "9IY36D_EzXdC"
   },
   "outputs": [],
   "source": [
    "import numpy as np\n",
    "import pandas as pd"
   ]
  },
  {
   "cell_type": "code",
   "execution_count": 2,
   "metadata": {
    "colab": {
     "base_uri": "https://localhost:8080/",
     "height": 204
    },
    "id": "pv04_1k9z6BX",
    "outputId": "617c9659-0f76-4384-a0a0-ac80b86a8e97"
   },
   "outputs": [
    {
     "data": {
      "text/html": [
       "<div>\n",
       "<style scoped>\n",
       "    .dataframe tbody tr th:only-of-type {\n",
       "        vertical-align: middle;\n",
       "    }\n",
       "\n",
       "    .dataframe tbody tr th {\n",
       "        vertical-align: top;\n",
       "    }\n",
       "\n",
       "    .dataframe thead th {\n",
       "        text-align: right;\n",
       "    }\n",
       "</style>\n",
       "<table border=\"1\" class=\"dataframe\">\n",
       "  <thead>\n",
       "    <tr style=\"text-align: right;\">\n",
       "      <th></th>\n",
       "      <th>feature_1</th>\n",
       "      <th>feature_2</th>\n",
       "      <th>feature_3</th>\n",
       "    </tr>\n",
       "  </thead>\n",
       "  <tbody>\n",
       "    <tr>\n",
       "      <th>0</th>\n",
       "      <td>5.0</td>\n",
       "      <td>7.0</td>\n",
       "      <td>8.0</td>\n",
       "    </tr>\n",
       "    <tr>\n",
       "      <th>1</th>\n",
       "      <td>NaN</td>\n",
       "      <td>NaN</td>\n",
       "      <td>NaN</td>\n",
       "    </tr>\n",
       "    <tr>\n",
       "      <th>2</th>\n",
       "      <td>-5.0</td>\n",
       "      <td>0.0</td>\n",
       "      <td>25.0</td>\n",
       "    </tr>\n",
       "    <tr>\n",
       "      <th>3</th>\n",
       "      <td>999.0</td>\n",
       "      <td>1.0</td>\n",
       "      <td>-1.0</td>\n",
       "    </tr>\n",
       "    <tr>\n",
       "      <th>4</th>\n",
       "      <td>NaN</td>\n",
       "      <td>0.0</td>\n",
       "      <td>NaN</td>\n",
       "    </tr>\n",
       "  </tbody>\n",
       "</table>\n",
       "</div>"
      ],
      "text/plain": [
       "   feature_1  feature_2  feature_3\n",
       "0        5.0        7.0        8.0\n",
       "1        NaN        NaN        NaN\n",
       "2       -5.0        0.0       25.0\n",
       "3      999.0        1.0       -1.0\n",
       "4        NaN        0.0        NaN"
      ]
     },
     "execution_count": 2,
     "metadata": {},
     "output_type": "execute_result"
    }
   ],
   "source": [
    "X = pd.DataFrame(\n",
    "    np.array([5,7,8, np.NaN, np.NaN, np.NaN, -5,\n",
    "              0,25,999,1,-1, np.NaN, 0, np.NaN])\\\n",
    "              .reshape((5,3)))\n",
    "X.columns = ['feature_1', 'feature_2', 'feature_3']\n",
    "\n",
    "X"
   ]
  },
  {
   "cell_type": "code",
   "execution_count": 3,
   "metadata": {
    "colab": {
     "base_uri": "https://localhost:8080/",
     "height": 173
    },
    "id": "Ch1B8wiTz9LR",
    "outputId": "47714457-8f22-46ce-d09d-2f3d5fb56067"
   },
   "outputs": [
    {
     "data": {
      "text/html": [
       "<div>\n",
       "<style scoped>\n",
       "    .dataframe tbody tr th:only-of-type {\n",
       "        vertical-align: middle;\n",
       "    }\n",
       "\n",
       "    .dataframe tbody tr th {\n",
       "        vertical-align: top;\n",
       "    }\n",
       "\n",
       "    .dataframe thead th {\n",
       "        text-align: right;\n",
       "    }\n",
       "</style>\n",
       "<table border=\"1\" class=\"dataframe\">\n",
       "  <thead>\n",
       "    <tr style=\"text-align: right;\">\n",
       "      <th></th>\n",
       "      <th>feature_1</th>\n",
       "      <th>feature_2</th>\n",
       "      <th>feature_3</th>\n",
       "    </tr>\n",
       "  </thead>\n",
       "  <tbody>\n",
       "    <tr>\n",
       "      <th>0</th>\n",
       "      <td>5.0</td>\n",
       "      <td>7.0</td>\n",
       "      <td>8.0</td>\n",
       "    </tr>\n",
       "    <tr>\n",
       "      <th>1</th>\n",
       "      <td>-5.0</td>\n",
       "      <td>0.0</td>\n",
       "      <td>25.0</td>\n",
       "    </tr>\n",
       "    <tr>\n",
       "      <th>2</th>\n",
       "      <td>999.0</td>\n",
       "      <td>1.0</td>\n",
       "      <td>-1.0</td>\n",
       "    </tr>\n",
       "    <tr>\n",
       "      <th>3</th>\n",
       "      <td>NaN</td>\n",
       "      <td>0.0</td>\n",
       "      <td>NaN</td>\n",
       "    </tr>\n",
       "  </tbody>\n",
       "</table>\n",
       "</div>"
      ],
      "text/plain": [
       "   feature_1  feature_2  feature_3\n",
       "0        5.0        7.0        8.0\n",
       "1       -5.0        0.0       25.0\n",
       "2      999.0        1.0       -1.0\n",
       "3        NaN        0.0        NaN"
      ]
     },
     "execution_count": 3,
     "metadata": {},
     "output_type": "execute_result"
    }
   ],
   "source": [
    "# Drop all rows (axis=0) with all data missing (tresh=1), and update the frame (inplace=True)\n",
    "# thresh=1 means the threshold for not deleting a row is >= 1 column contains data\n",
    "X.dropna(axis=0, thresh=1, inplace=True)\n",
    "\n",
    "# Reset the index\n",
    "X.reset_index(inplace=True)\n",
    "\n",
    "# Drop the old index column that is generated after resetting\n",
    "X.drop(['index'], axis=1, inplace=True)\n",
    "\n",
    "# SHow the updated X\n",
    "X"
   ]
  },
  {
   "cell_type": "code",
   "execution_count": 4,
   "metadata": {
    "colab": {
     "base_uri": "https://localhost:8080/",
     "height": 173
    },
    "id": "GyEpS68xOWdS",
    "outputId": "7cfcf731-d84d-4ca8-dcc3-64477759858c"
   },
   "outputs": [
    {
     "data": {
      "text/html": [
       "<div>\n",
       "<style scoped>\n",
       "    .dataframe tbody tr th:only-of-type {\n",
       "        vertical-align: middle;\n",
       "    }\n",
       "\n",
       "    .dataframe tbody tr th {\n",
       "        vertical-align: top;\n",
       "    }\n",
       "\n",
       "    .dataframe thead th {\n",
       "        text-align: right;\n",
       "    }\n",
       "</style>\n",
       "<table border=\"1\" class=\"dataframe\">\n",
       "  <thead>\n",
       "    <tr style=\"text-align: right;\">\n",
       "      <th></th>\n",
       "      <th>missing_1</th>\n",
       "      <th>missing_3</th>\n",
       "    </tr>\n",
       "  </thead>\n",
       "  <tbody>\n",
       "    <tr>\n",
       "      <th>0</th>\n",
       "      <td>False</td>\n",
       "      <td>False</td>\n",
       "    </tr>\n",
       "    <tr>\n",
       "      <th>1</th>\n",
       "      <td>False</td>\n",
       "      <td>False</td>\n",
       "    </tr>\n",
       "    <tr>\n",
       "      <th>2</th>\n",
       "      <td>True</td>\n",
       "      <td>False</td>\n",
       "    </tr>\n",
       "    <tr>\n",
       "      <th>3</th>\n",
       "      <td>True</td>\n",
       "      <td>True</td>\n",
       "    </tr>\n",
       "  </tbody>\n",
       "</table>\n",
       "</div>"
      ],
      "text/plain": [
       "   missing_1  missing_3\n",
       "0      False      False\n",
       "1      False      False\n",
       "2       True      False\n",
       "3       True       True"
      ]
     },
     "execution_count": 4,
     "metadata": {},
     "output_type": "execute_result"
    }
   ],
   "source": [
    "from sklearn.impute import MissingIndicator\n",
    "\n",
    "# Replace 999 with NaN because it's invalid\n",
    "X.replace({999.0 : np.NaN}, inplace=True)\n",
    "\n",
    "# Convert X to a boolean indicating whether the data is missing or not\n",
    "indicator = MissingIndicator(missing_values=np.NaN)\n",
    "indicator = indicator.fit_transform(X)\n",
    "indicator = pd.DataFrame(indicator, columns=['missing_1', 'missing_3'])\n",
    "\n",
    "# Show the indicator\n",
    "indicator"
   ]
  },
  {
   "cell_type": "code",
   "execution_count": 5,
   "metadata": {
    "colab": {
     "base_uri": "https://localhost:8080/"
    },
    "id": "tnB8S66Jdy5L",
    "outputId": "69b9f810-5aa2-4210-cde9-bcab698b094c"
   },
   "outputs": [
    {
     "data": {
      "text/plain": [
       "array([[ 5.        ,  7.        ,  8.        ],\n",
       "       [-5.        ,  0.        , 25.        ],\n",
       "       [ 0.        ,  1.        , -1.        ],\n",
       "       [ 0.        ,  0.        , 10.66666667]])"
      ]
     },
     "execution_count": 5,
     "metadata": {},
     "output_type": "execute_result"
    }
   ],
   "source": [
    "from sklearn.impute import SimpleImputer\n",
    "\n",
    "X_copy = X.copy()\n",
    "imp = SimpleImputer(missing_values=np.nan, strategy='mean')\n",
    "X_copy = imp.fit_transform(X_copy)\n",
    "\n",
    "X_copy"
   ]
  },
  {
   "cell_type": "code",
   "execution_count": 6,
   "metadata": {
    "colab": {
     "base_uri": "https://localhost:8080/",
     "height": 173
    },
    "id": "WQ2K4tFTOzgs",
    "outputId": "d1e51637-38ad-4871-b3e8-5d8451446fab"
   },
   "outputs": [
    {
     "data": {
      "text/html": [
       "<div>\n",
       "<style scoped>\n",
       "    .dataframe tbody tr th:only-of-type {\n",
       "        vertical-align: middle;\n",
       "    }\n",
       "\n",
       "    .dataframe tbody tr th {\n",
       "        vertical-align: top;\n",
       "    }\n",
       "\n",
       "    .dataframe thead th {\n",
       "        text-align: right;\n",
       "    }\n",
       "</style>\n",
       "<table border=\"1\" class=\"dataframe\">\n",
       "  <thead>\n",
       "    <tr style=\"text-align: right;\">\n",
       "      <th></th>\n",
       "      <th>feature_1</th>\n",
       "      <th>feature_2</th>\n",
       "      <th>feature_3</th>\n",
       "    </tr>\n",
       "  </thead>\n",
       "  <tbody>\n",
       "    <tr>\n",
       "      <th>0</th>\n",
       "      <td>5.0</td>\n",
       "      <td>7.0</td>\n",
       "      <td>8.000000</td>\n",
       "    </tr>\n",
       "    <tr>\n",
       "      <th>1</th>\n",
       "      <td>-5.0</td>\n",
       "      <td>0.0</td>\n",
       "      <td>25.000000</td>\n",
       "    </tr>\n",
       "    <tr>\n",
       "      <th>2</th>\n",
       "      <td>0.0</td>\n",
       "      <td>1.0</td>\n",
       "      <td>-1.000000</td>\n",
       "    </tr>\n",
       "    <tr>\n",
       "      <th>3</th>\n",
       "      <td>0.0</td>\n",
       "      <td>0.0</td>\n",
       "      <td>10.666667</td>\n",
       "    </tr>\n",
       "  </tbody>\n",
       "</table>\n",
       "</div>"
      ],
      "text/plain": [
       "   feature_1  feature_2  feature_3\n",
       "0        5.0        7.0   8.000000\n",
       "1       -5.0        0.0  25.000000\n",
       "2        0.0        1.0  -1.000000\n",
       "3        0.0        0.0  10.666667"
      ]
     },
     "execution_count": 6,
     "metadata": {},
     "output_type": "execute_result"
    }
   ],
   "source": [
    "# There are 4 common strategies to fill missing data: mean, mode, median, or a constant\n",
    "# Mode for True/False data, mean for continuous data, median for discrete data\n",
    "X.fillna(X.mean(), inplace=True)\n",
    "\n",
    "# Show X\n",
    "X"
   ]
  },
  {
   "cell_type": "markdown",
   "metadata": {
    "id": "86esWw9ZTU2s"
   },
   "source": [
    "# **2. Polynomial features**"
   ]
  },
  {
   "cell_type": "markdown",
   "metadata": {
    "id": "ftlb7sXwnJk3"
   },
   "source": [
    "**Usage**: Used when we believe there exists a nonlinear relationship between the features and the target <br>\n",
    "**Note**: Typically used to add complexity to linear models with too few features"
   ]
  },
  {
   "cell_type": "code",
   "execution_count": 7,
   "metadata": {
    "colab": {
     "base_uri": "https://localhost:8080/",
     "height": 173
    },
    "id": "lX-QG3loTXrf",
    "outputId": "0d752bde-11fc-4ef0-d572-06fd09c95c7f"
   },
   "outputs": [
    {
     "data": {
      "text/html": [
       "<div>\n",
       "<style scoped>\n",
       "    .dataframe tbody tr th:only-of-type {\n",
       "        vertical-align: middle;\n",
       "    }\n",
       "\n",
       "    .dataframe tbody tr th {\n",
       "        vertical-align: top;\n",
       "    }\n",
       "\n",
       "    .dataframe thead th {\n",
       "        text-align: right;\n",
       "    }\n",
       "</style>\n",
       "<table border=\"1\" class=\"dataframe\">\n",
       "  <thead>\n",
       "    <tr style=\"text-align: right;\">\n",
       "      <th></th>\n",
       "      <th>f1_f2</th>\n",
       "      <th>f1_f3</th>\n",
       "      <th>f2_f3</th>\n",
       "      <th>f1_f2_f3</th>\n",
       "    </tr>\n",
       "  </thead>\n",
       "  <tbody>\n",
       "    <tr>\n",
       "      <th>0</th>\n",
       "      <td>35.0</td>\n",
       "      <td>40.0</td>\n",
       "      <td>56.0</td>\n",
       "      <td>280.0</td>\n",
       "    </tr>\n",
       "    <tr>\n",
       "      <th>1</th>\n",
       "      <td>-0.0</td>\n",
       "      <td>-125.0</td>\n",
       "      <td>0.0</td>\n",
       "      <td>-0.0</td>\n",
       "    </tr>\n",
       "    <tr>\n",
       "      <th>2</th>\n",
       "      <td>0.0</td>\n",
       "      <td>-0.0</td>\n",
       "      <td>-1.0</td>\n",
       "      <td>-0.0</td>\n",
       "    </tr>\n",
       "    <tr>\n",
       "      <th>3</th>\n",
       "      <td>0.0</td>\n",
       "      <td>0.0</td>\n",
       "      <td>0.0</td>\n",
       "      <td>0.0</td>\n",
       "    </tr>\n",
       "  </tbody>\n",
       "</table>\n",
       "</div>"
      ],
      "text/plain": [
       "   f1_f2  f1_f3  f2_f3  f1_f2_f3\n",
       "0   35.0   40.0   56.0     280.0\n",
       "1   -0.0 -125.0    0.0      -0.0\n",
       "2    0.0   -0.0   -1.0      -0.0\n",
       "3    0.0    0.0    0.0       0.0"
      ]
     },
     "execution_count": 7,
     "metadata": {},
     "output_type": "execute_result"
    }
   ],
   "source": [
    "from sklearn.preprocessing import PolynomialFeatures\n",
    "# Go to power 3, and only f1*f2, f1*f3, f2*f3, f1*f2*f3\n",
    "# Ignore f1^2, f1^3, ...\n",
    "poly = PolynomialFeatures(degree=3, interaction_only=True)\n",
    "polynomials = pd.DataFrame(poly\\\n",
    "                           .fit_transform(X), \n",
    "                           columns=['0','1','2','3', \n",
    "                                    'f1_f2', 'f1_f3', 'f2_f3', 'f1_f2_f3'])\\\n",
    "                                        [['f1_f2', 'f1_f3', 'f2_f3', 'f1_f2_f3']]\n",
    "polynomials"
   ]
  },
  {
   "cell_type": "code",
   "execution_count": 8,
   "metadata": {
    "colab": {
     "base_uri": "https://localhost:8080/",
     "height": 173
    },
    "id": "I85wFfIUoTxU",
    "outputId": "c066a728-fd2d-4eea-948f-3e0436ca21e9"
   },
   "outputs": [
    {
     "data": {
      "text/html": [
       "<div>\n",
       "<style scoped>\n",
       "    .dataframe tbody tr th:only-of-type {\n",
       "        vertical-align: middle;\n",
       "    }\n",
       "\n",
       "    .dataframe tbody tr th {\n",
       "        vertical-align: top;\n",
       "    }\n",
       "\n",
       "    .dataframe thead th {\n",
       "        text-align: right;\n",
       "    }\n",
       "</style>\n",
       "<table border=\"1\" class=\"dataframe\">\n",
       "  <thead>\n",
       "    <tr style=\"text-align: right;\">\n",
       "      <th></th>\n",
       "      <th>feature_1</th>\n",
       "      <th>feature_2</th>\n",
       "      <th>feature_3</th>\n",
       "      <th>missing_1</th>\n",
       "      <th>missing_3</th>\n",
       "      <th>f1_f2</th>\n",
       "      <th>f1_f3</th>\n",
       "      <th>f2_f3</th>\n",
       "      <th>f1_f2_f3</th>\n",
       "    </tr>\n",
       "  </thead>\n",
       "  <tbody>\n",
       "    <tr>\n",
       "      <th>0</th>\n",
       "      <td>5.0</td>\n",
       "      <td>7.0</td>\n",
       "      <td>8.000000</td>\n",
       "      <td>False</td>\n",
       "      <td>False</td>\n",
       "      <td>35.0</td>\n",
       "      <td>40.0</td>\n",
       "      <td>56.0</td>\n",
       "      <td>280.0</td>\n",
       "    </tr>\n",
       "    <tr>\n",
       "      <th>1</th>\n",
       "      <td>-5.0</td>\n",
       "      <td>0.0</td>\n",
       "      <td>25.000000</td>\n",
       "      <td>False</td>\n",
       "      <td>False</td>\n",
       "      <td>-0.0</td>\n",
       "      <td>-125.0</td>\n",
       "      <td>0.0</td>\n",
       "      <td>-0.0</td>\n",
       "    </tr>\n",
       "    <tr>\n",
       "      <th>2</th>\n",
       "      <td>0.0</td>\n",
       "      <td>1.0</td>\n",
       "      <td>-1.000000</td>\n",
       "      <td>True</td>\n",
       "      <td>False</td>\n",
       "      <td>0.0</td>\n",
       "      <td>-0.0</td>\n",
       "      <td>-1.0</td>\n",
       "      <td>-0.0</td>\n",
       "    </tr>\n",
       "    <tr>\n",
       "      <th>3</th>\n",
       "      <td>0.0</td>\n",
       "      <td>0.0</td>\n",
       "      <td>10.666667</td>\n",
       "      <td>True</td>\n",
       "      <td>True</td>\n",
       "      <td>0.0</td>\n",
       "      <td>0.0</td>\n",
       "      <td>0.0</td>\n",
       "      <td>0.0</td>\n",
       "    </tr>\n",
       "  </tbody>\n",
       "</table>\n",
       "</div>"
      ],
      "text/plain": [
       "   feature_1  feature_2  feature_3  missing_1  missing_3  f1_f2  f1_f3  f2_f3  \\\n",
       "0        5.0        7.0   8.000000      False      False   35.0   40.0   56.0   \n",
       "1       -5.0        0.0  25.000000      False      False   -0.0 -125.0    0.0   \n",
       "2        0.0        1.0  -1.000000       True      False    0.0   -0.0   -1.0   \n",
       "3        0.0        0.0  10.666667       True       True    0.0    0.0    0.0   \n",
       "\n",
       "   f1_f2_f3  \n",
       "0     280.0  \n",
       "1      -0.0  \n",
       "2      -0.0  \n",
       "3       0.0  "
      ]
     },
     "execution_count": 8,
     "metadata": {},
     "output_type": "execute_result"
    }
   ],
   "source": [
    "X = pd.concat([X, indicator, polynomials], axis=1)\n",
    "X"
   ]
  },
  {
   "cell_type": "markdown",
   "metadata": {
    "id": "EULvUMUko9J8"
   },
   "source": [
    "# **3. Categorical features**"
   ]
  },
  {
   "cell_type": "markdown",
   "metadata": {
    "id": "eGHnIo6YprsB"
   },
   "source": [
    "## *3.1. OrdinalEncoder*"
   ]
  },
  {
   "cell_type": "markdown",
   "metadata": {
    "id": "ar7efVEZp08j"
   },
   "source": [
    "**Usage**: Used for Ordinal (ordered) data.<br>\n",
    "**Example**: Strongly disagree, Disagree, Agree, Strongly Agree"
   ]
  },
  {
   "cell_type": "code",
   "execution_count": 9,
   "metadata": {
    "colab": {
     "base_uri": "https://localhost:8080/",
     "height": 204
    },
    "id": "RQ9m5VhZpCJn",
    "outputId": "3d82a591-1432-4f33-b54b-792a478440b6"
   },
   "outputs": [
    {
     "data": {
      "text/html": [
       "<div>\n",
       "<style scoped>\n",
       "    .dataframe tbody tr th:only-of-type {\n",
       "        vertical-align: middle;\n",
       "    }\n",
       "\n",
       "    .dataframe tbody tr th {\n",
       "        vertical-align: top;\n",
       "    }\n",
       "\n",
       "    .dataframe thead th {\n",
       "        text-align: right;\n",
       "    }\n",
       "</style>\n",
       "<table border=\"1\" class=\"dataframe\">\n",
       "  <thead>\n",
       "    <tr style=\"text-align: right;\">\n",
       "      <th></th>\n",
       "      <th>sex</th>\n",
       "      <th>blood_type</th>\n",
       "      <th>edu_level</th>\n",
       "    </tr>\n",
       "  </thead>\n",
       "  <tbody>\n",
       "    <tr>\n",
       "      <th>0</th>\n",
       "      <td>M</td>\n",
       "      <td>O-</td>\n",
       "      <td>medium</td>\n",
       "    </tr>\n",
       "    <tr>\n",
       "      <th>1</th>\n",
       "      <td>M</td>\n",
       "      <td>O-</td>\n",
       "      <td>high</td>\n",
       "    </tr>\n",
       "    <tr>\n",
       "      <th>2</th>\n",
       "      <td>F</td>\n",
       "      <td>O+</td>\n",
       "      <td>high</td>\n",
       "    </tr>\n",
       "    <tr>\n",
       "      <th>3</th>\n",
       "      <td>F</td>\n",
       "      <td>AB</td>\n",
       "      <td>low</td>\n",
       "    </tr>\n",
       "    <tr>\n",
       "      <th>4</th>\n",
       "      <td>F</td>\n",
       "      <td>B+</td>\n",
       "      <td>nan</td>\n",
       "    </tr>\n",
       "  </tbody>\n",
       "</table>\n",
       "</div>"
      ],
      "text/plain": [
       "  sex blood_type edu_level\n",
       "0   M         O-    medium\n",
       "1   M         O-      high\n",
       "2   F         O+      high\n",
       "3   F         AB       low\n",
       "4   F         B+       nan"
      ]
     },
     "execution_count": 9,
     "metadata": {},
     "output_type": "execute_result"
    }
   ],
   "source": [
    "X = pd.DataFrame(\n",
    "    np.array(['M', 'O-', 'medium',\n",
    "             'M', 'O-', 'high',\n",
    "              'F', 'O+', 'high',\n",
    "              'F', 'AB', 'low',\n",
    "              'F', 'B+', np.NaN])\n",
    "              .reshape((5,3)))\n",
    "X.columns = ['sex', 'blood_type', 'edu_level']\n",
    "\n",
    "X"
   ]
  },
  {
   "cell_type": "code",
   "execution_count": 10,
   "metadata": {
    "colab": {
     "base_uri": "https://localhost:8080/",
     "height": 204
    },
    "id": "012UgMH_qaUi",
    "outputId": "4afbf44d-c514-41ba-dbff-52e3bda89f59"
   },
   "outputs": [
    {
     "data": {
      "text/html": [
       "<div>\n",
       "<style scoped>\n",
       "    .dataframe tbody tr th:only-of-type {\n",
       "        vertical-align: middle;\n",
       "    }\n",
       "\n",
       "    .dataframe tbody tr th {\n",
       "        vertical-align: top;\n",
       "    }\n",
       "\n",
       "    .dataframe thead th {\n",
       "        text-align: right;\n",
       "    }\n",
       "</style>\n",
       "<table border=\"1\" class=\"dataframe\">\n",
       "  <thead>\n",
       "    <tr style=\"text-align: right;\">\n",
       "      <th></th>\n",
       "      <th>sex</th>\n",
       "      <th>blood_type</th>\n",
       "      <th>edu_level</th>\n",
       "    </tr>\n",
       "  </thead>\n",
       "  <tbody>\n",
       "    <tr>\n",
       "      <th>0</th>\n",
       "      <td>M</td>\n",
       "      <td>O-</td>\n",
       "      <td>2.0</td>\n",
       "    </tr>\n",
       "    <tr>\n",
       "      <th>1</th>\n",
       "      <td>M</td>\n",
       "      <td>O-</td>\n",
       "      <td>0.0</td>\n",
       "    </tr>\n",
       "    <tr>\n",
       "      <th>2</th>\n",
       "      <td>F</td>\n",
       "      <td>O+</td>\n",
       "      <td>0.0</td>\n",
       "    </tr>\n",
       "    <tr>\n",
       "      <th>3</th>\n",
       "      <td>F</td>\n",
       "      <td>AB</td>\n",
       "      <td>1.0</td>\n",
       "    </tr>\n",
       "    <tr>\n",
       "      <th>4</th>\n",
       "      <td>F</td>\n",
       "      <td>B+</td>\n",
       "      <td>3.0</td>\n",
       "    </tr>\n",
       "  </tbody>\n",
       "</table>\n",
       "</div>"
      ],
      "text/plain": [
       "  sex blood_type  edu_level\n",
       "0   M         O-        2.0\n",
       "1   M         O-        0.0\n",
       "2   F         O+        0.0\n",
       "3   F         AB        1.0\n",
       "4   F         B+        3.0"
      ]
     },
     "execution_count": 10,
     "metadata": {},
     "output_type": "execute_result"
    }
   ],
   "source": [
    "# This is how a lazy pre-built model will looks like.\n",
    "# It's pretty shit\n",
    "from sklearn.preprocessing import OrdinalEncoder\n",
    "encoder = OrdinalEncoder()\n",
    "\n",
    "X_copy = X.copy()\n",
    "X_copy.edu_level = encoder.fit_transform(X_copy.edu_level.values.reshape(-1, 1))\n",
    "\n",
    "# Show the shitty model\n",
    "X_copy"
   ]
  },
  {
   "cell_type": "code",
   "execution_count": 11,
   "metadata": {
    "colab": {
     "base_uri": "https://localhost:8080/",
     "height": 289
    },
    "id": "TocBBnSQrtVc",
    "outputId": "b22f88a3-f781-4d23-de3e-18e7008a9720"
   },
   "outputs": [
    {
     "name": "stdout",
     "output_type": "stream",
     "text": [
      "unique = ['low', 'medium', 'high']\n",
      "Categories (4, object): ['missing' < 'low' < 'medium' < 'high']\n",
      "\n",
      "labels = [ 1  2  2  0 -1]\n",
      "\n"
     ]
    },
    {
     "data": {
      "text/html": [
       "<div>\n",
       "<style scoped>\n",
       "    .dataframe tbody tr th:only-of-type {\n",
       "        vertical-align: middle;\n",
       "    }\n",
       "\n",
       "    .dataframe tbody tr th {\n",
       "        vertical-align: top;\n",
       "    }\n",
       "\n",
       "    .dataframe thead th {\n",
       "        text-align: right;\n",
       "    }\n",
       "</style>\n",
       "<table border=\"1\" class=\"dataframe\">\n",
       "  <thead>\n",
       "    <tr style=\"text-align: right;\">\n",
       "      <th></th>\n",
       "      <th>sex</th>\n",
       "      <th>blood_type</th>\n",
       "      <th>edu_level</th>\n",
       "    </tr>\n",
       "  </thead>\n",
       "  <tbody>\n",
       "    <tr>\n",
       "      <th>0</th>\n",
       "      <td>M</td>\n",
       "      <td>O-</td>\n",
       "      <td>1</td>\n",
       "    </tr>\n",
       "    <tr>\n",
       "      <th>1</th>\n",
       "      <td>M</td>\n",
       "      <td>O-</td>\n",
       "      <td>2</td>\n",
       "    </tr>\n",
       "    <tr>\n",
       "      <th>2</th>\n",
       "      <td>F</td>\n",
       "      <td>O+</td>\n",
       "      <td>2</td>\n",
       "    </tr>\n",
       "    <tr>\n",
       "      <th>3</th>\n",
       "      <td>F</td>\n",
       "      <td>AB</td>\n",
       "      <td>0</td>\n",
       "    </tr>\n",
       "    <tr>\n",
       "      <th>4</th>\n",
       "      <td>F</td>\n",
       "      <td>B+</td>\n",
       "      <td>-1</td>\n",
       "    </tr>\n",
       "  </tbody>\n",
       "</table>\n",
       "</div>"
      ],
      "text/plain": [
       "  sex blood_type  edu_level\n",
       "0   M         O-          1\n",
       "1   M         O-          2\n",
       "2   F         O+          2\n",
       "3   F         AB          0\n",
       "4   F         B+         -1"
      ]
     },
     "execution_count": 11,
     "metadata": {},
     "output_type": "execute_result"
    }
   ],
   "source": [
    "# Specify the order for the categorical data\n",
    "cat = pd.Categorical(X.edu_level, \n",
    "                     categories=['missing', 'low', 'medium', 'high'], \n",
    "                     ordered=True)\n",
    "\n",
    "# Fill in missing data\n",
    "cat.fillna('missing')\n",
    "\n",
    "# Numerize the categorical data\n",
    "labels, unique = pd.factorize(cat, sort=True)\n",
    "print(f'unique = {unique}\\n')\n",
    "print(f'labels = {labels}\\n')\n",
    "\n",
    "# Replace the edu_level with the numerized value\n",
    "X.edu_level = labels\n",
    "\n",
    "# Show X\n",
    "X"
   ]
  },
  {
   "cell_type": "markdown",
   "metadata": {
    "id": "BZ-VFfSBv-m_"
   },
   "source": [
    "## *3.2. OneHotEncoder*"
   ]
  },
  {
   "cell_type": "markdown",
   "metadata": {
    "id": "xNRhPJeZwCmG"
   },
   "source": [
    "**Usage**: each categorical feature with n categories is transformed into n binary features <br>\n",
    "**Note**: make sure you set dtype=np.int"
   ]
  },
  {
   "cell_type": "code",
   "execution_count": 12,
   "metadata": {
    "id": "3oPT3MsJwTQE"
   },
   "outputs": [
    {
     "name": "stderr",
     "output_type": "stream",
     "text": [
      "<ipython-input-12-49d19b9aa839>:3: DeprecationWarning: `np.int` is a deprecated alias for the builtin `int`. To silence this warning, use `int` by itself. Doing this will not modify any behavior and is safe. When replacing `np.int`, you may wish to use e.g. `np.int64` or `np.int32` to specify the precision. If you wish to review your current use, check the release note link for additional information.\n",
      "Deprecated in NumPy 1.20; for more details and guidance: https://numpy.org/devdocs/release/1.20.0-notes.html#deprecations\n",
      "  onehot = OneHotEncoder(dtype=np.int, sparse=False)\n"
     ]
    }
   ],
   "source": [
    "from sklearn.preprocessing import OneHotEncoder\n",
    "# Make sure to keep sparse=False, otherwise it returns a matrix instead\n",
    "onehot = OneHotEncoder(dtype=np.int, sparse=False)\n",
    "nominals = pd.DataFrame(\n",
    "    onehot.fit_transform(\n",
    "        X[['sex', 'blood_type']]),\n",
    "        columns=['F', 'M', 'AB', 'B+','O+', 'O-']     # Ordered by alphabet\n",
    "        )\n",
    "nominals['edu_level'] = X.edu_level"
   ]
  },
  {
   "cell_type": "code",
   "execution_count": 13,
   "metadata": {
    "colab": {
     "base_uri": "https://localhost:8080/",
     "height": 391
    },
    "id": "w9l72ksE3Vd4",
    "outputId": "7c000d3b-df4f-4ca0-e5cb-c6c8775bf2a5"
   },
   "outputs": [
    {
     "data": {
      "text/html": [
       "<div>\n",
       "<style scoped>\n",
       "    .dataframe tbody tr th:only-of-type {\n",
       "        vertical-align: middle;\n",
       "    }\n",
       "\n",
       "    .dataframe tbody tr th {\n",
       "        vertical-align: top;\n",
       "    }\n",
       "\n",
       "    .dataframe thead th {\n",
       "        text-align: right;\n",
       "    }\n",
       "</style>\n",
       "<table border=\"1\" class=\"dataframe\">\n",
       "  <thead>\n",
       "    <tr style=\"text-align: right;\">\n",
       "      <th></th>\n",
       "      <th>sex</th>\n",
       "      <th>blood_type</th>\n",
       "      <th>edu_level</th>\n",
       "    </tr>\n",
       "  </thead>\n",
       "  <tbody>\n",
       "    <tr>\n",
       "      <th>0</th>\n",
       "      <td>M</td>\n",
       "      <td>O-</td>\n",
       "      <td>1</td>\n",
       "    </tr>\n",
       "    <tr>\n",
       "      <th>1</th>\n",
       "      <td>M</td>\n",
       "      <td>O-</td>\n",
       "      <td>2</td>\n",
       "    </tr>\n",
       "    <tr>\n",
       "      <th>2</th>\n",
       "      <td>F</td>\n",
       "      <td>O+</td>\n",
       "      <td>2</td>\n",
       "    </tr>\n",
       "    <tr>\n",
       "      <th>3</th>\n",
       "      <td>F</td>\n",
       "      <td>AB</td>\n",
       "      <td>0</td>\n",
       "    </tr>\n",
       "    <tr>\n",
       "      <th>4</th>\n",
       "      <td>F</td>\n",
       "      <td>B+</td>\n",
       "      <td>-1</td>\n",
       "    </tr>\n",
       "  </tbody>\n",
       "</table>\n",
       "</div>"
      ],
      "text/plain": [
       "  sex blood_type  edu_level\n",
       "0   M         O-          1\n",
       "1   M         O-          2\n",
       "2   F         O+          2\n",
       "3   F         AB          0\n",
       "4   F         B+         -1"
      ]
     },
     "metadata": {},
     "output_type": "display_data"
    },
    {
     "data": {
      "text/html": [
       "<div>\n",
       "<style scoped>\n",
       "    .dataframe tbody tr th:only-of-type {\n",
       "        vertical-align: middle;\n",
       "    }\n",
       "\n",
       "    .dataframe tbody tr th {\n",
       "        vertical-align: top;\n",
       "    }\n",
       "\n",
       "    .dataframe thead th {\n",
       "        text-align: right;\n",
       "    }\n",
       "</style>\n",
       "<table border=\"1\" class=\"dataframe\">\n",
       "  <thead>\n",
       "    <tr style=\"text-align: right;\">\n",
       "      <th></th>\n",
       "      <th>F</th>\n",
       "      <th>M</th>\n",
       "      <th>AB</th>\n",
       "      <th>B+</th>\n",
       "      <th>O+</th>\n",
       "      <th>O-</th>\n",
       "      <th>edu_level</th>\n",
       "    </tr>\n",
       "  </thead>\n",
       "  <tbody>\n",
       "    <tr>\n",
       "      <th>0</th>\n",
       "      <td>0</td>\n",
       "      <td>1</td>\n",
       "      <td>0</td>\n",
       "      <td>0</td>\n",
       "      <td>0</td>\n",
       "      <td>1</td>\n",
       "      <td>1</td>\n",
       "    </tr>\n",
       "    <tr>\n",
       "      <th>1</th>\n",
       "      <td>0</td>\n",
       "      <td>1</td>\n",
       "      <td>0</td>\n",
       "      <td>0</td>\n",
       "      <td>0</td>\n",
       "      <td>1</td>\n",
       "      <td>2</td>\n",
       "    </tr>\n",
       "    <tr>\n",
       "      <th>2</th>\n",
       "      <td>1</td>\n",
       "      <td>0</td>\n",
       "      <td>0</td>\n",
       "      <td>0</td>\n",
       "      <td>1</td>\n",
       "      <td>0</td>\n",
       "      <td>2</td>\n",
       "    </tr>\n",
       "    <tr>\n",
       "      <th>3</th>\n",
       "      <td>1</td>\n",
       "      <td>0</td>\n",
       "      <td>1</td>\n",
       "      <td>0</td>\n",
       "      <td>0</td>\n",
       "      <td>0</td>\n",
       "      <td>0</td>\n",
       "    </tr>\n",
       "    <tr>\n",
       "      <th>4</th>\n",
       "      <td>1</td>\n",
       "      <td>0</td>\n",
       "      <td>0</td>\n",
       "      <td>1</td>\n",
       "      <td>0</td>\n",
       "      <td>0</td>\n",
       "      <td>-1</td>\n",
       "    </tr>\n",
       "  </tbody>\n",
       "</table>\n",
       "</div>"
      ],
      "text/plain": [
       "   F  M  AB  B+  O+  O-  edu_level\n",
       "0  0  1   0   0   0   1          1\n",
       "1  0  1   0   0   0   1          2\n",
       "2  1  0   0   0   1   0          2\n",
       "3  1  0   1   0   0   0          0\n",
       "4  1  0   0   1   0   0         -1"
      ]
     },
     "metadata": {},
     "output_type": "display_data"
    }
   ],
   "source": [
    "display(X, nominals)"
   ]
  },
  {
   "cell_type": "markdown",
   "metadata": {
    "id": "sDYkK0XJ87l3"
   },
   "source": [
    "# **4. Numerical features**"
   ]
  },
  {
   "cell_type": "markdown",
   "metadata": {
    "id": "NBuwtsbZ9BQE"
   },
   "source": [
    "## *4.1. Discretization*"
   ]
  },
  {
   "cell_type": "markdown",
   "metadata": {
    "id": "HdbLUMiw9VdT"
   },
   "source": [
    "**Usage**: it divides a continuous feature into a pre-specified number of categories (bins) <br>\n",
    "**Note**: it helps increase the performance of tree based models"
   ]
  },
  {
   "cell_type": "code",
   "execution_count": 14,
   "metadata": {
    "colab": {
     "base_uri": "https://localhost:8080/"
    },
    "id": "1W-JWfvq9kz3",
    "outputId": "c60ab0b0-60b8-4e1b-f983-f9ea6b827fb0"
   },
   "outputs": [
    {
     "data": {
      "text/plain": [
       "array([[0., 2., 0., 0., 0., 2., 2.],\n",
       "       [0., 2., 0., 0., 0., 2., 2.],\n",
       "       [2., 0., 0., 0., 2., 0., 2.],\n",
       "       [2., 0., 2., 0., 0., 0., 1.],\n",
       "       [2., 0., 0., 2., 0., 0., 0.]])"
      ]
     },
     "execution_count": 14,
     "metadata": {},
     "output_type": "execute_result"
    }
   ],
   "source": [
    "from sklearn.preprocessing import KBinsDiscretizer\n",
    "disc = KBinsDiscretizer(n_bins=3,             # Three groups\n",
    "                        encode='ordinal',     # ordinal, onehot, onehot-dense\n",
    "                        strategy='uniform')   # uniform: all bins in each feature have identical widths.\n",
    "                                              # quantile (default): all bins in each feature have same number of points.\n",
    "                                              # kmeans: all values in each bin have same nearest center of a 1D k-means cluster.\n",
    "disc.fit_transform(nominals)"
   ]
  },
  {
   "cell_type": "markdown",
   "metadata": {
    "id": "wWfr31Zf9Fuw"
   },
   "source": [
    "## *4.2. Binarization*"
   ]
  },
  {
   "cell_type": "markdown",
   "metadata": {
    "id": "8IwfPL6vA2yq"
   },
   "source": [
    "**Usage**: assign a boolean value (1 or 0) to each sample based on a threshold"
   ]
  },
  {
   "cell_type": "code",
   "execution_count": 15,
   "metadata": {
    "colab": {
     "base_uri": "https://localhost:8080/"
    },
    "id": "0S1w-eXxAKYi",
    "outputId": "5005b3c0-aa39-435f-81b8-f6106963f93f"
   },
   "outputs": [
    {
     "data": {
      "text/plain": [
       "array([[1],\n",
       "       [1],\n",
       "       [1],\n",
       "       [0],\n",
       "       [0]])"
      ]
     },
     "execution_count": 15,
     "metadata": {},
     "output_type": "execute_result"
    }
   ],
   "source": [
    "from sklearn.preprocessing import Binarizer\n",
    "binarizer = Binarizer(threshold=0, copy=True)\n",
    "binarizer.fit_transform(X.edu_level.values.reshape(-1, 1))"
   ]
  },
  {
   "cell_type": "markdown",
   "metadata": {
    "id": "hcJRt2SP5FXc"
   },
   "source": [
    "# **5. Custom transformers**"
   ]
  },
  {
   "cell_type": "code",
   "execution_count": 16,
   "metadata": {
    "colab": {
     "base_uri": "https://localhost:8080/"
    },
    "id": "unZF_py35ouQ",
    "outputId": "e977d26f-eaa3-4a39-b1de-2938927dcdd1"
   },
   "outputs": [
    {
     "data": {
      "text/plain": [
       "array([[0.69314718],\n",
       "       [0.69314718],\n",
       "       [0.        ],\n",
       "       [0.        ],\n",
       "       [0.        ]])"
      ]
     },
     "execution_count": 16,
     "metadata": {},
     "output_type": "execute_result"
    }
   ],
   "source": [
    "# Implementation of log transform using FunctionTransformer\n",
    "from sklearn.preprocessing import FunctionTransformer\n",
    "transformer = FunctionTransformer(np.log1p, validate=True)\n",
    "\n",
    "X_copy = nominals.copy()\n",
    "transformer.fit_transform(X_copy.M.values.reshape(-1, 1))"
   ]
  },
  {
   "cell_type": "code",
   "execution_count": 17,
   "metadata": {
    "colab": {
     "base_uri": "https://localhost:8080/"
    },
    "id": "1WE4UbVp6A35",
    "outputId": "c15c0f6f-1d36-42b3-8ee1-874f45a821c3"
   },
   "outputs": [
    {
     "data": {
      "text/plain": [
       "0    0.693147\n",
       "1    0.693147\n",
       "2    0.000000\n",
       "3    0.000000\n",
       "4    0.000000\n",
       "Name: M, dtype: float64"
      ]
     },
     "execution_count": 17,
     "metadata": {},
     "output_type": "execute_result"
    }
   ],
   "source": [
    "# Simpler implementation of log transform using 'apply' + lambda function\n",
    "X_copy = nominals.copy()\n",
    "X_copy.M.apply(lambda x : np.log1p(x))"
   ]
  },
  {
   "cell_type": "markdown",
   "metadata": {
    "id": "IUa-sC5Gm_wV"
   },
   "source": [
    "# **6. Standardization**"
   ]
  },
  {
   "cell_type": "markdown",
   "metadata": {
    "id": "KHybxsaZpql7"
   },
   "source": [
    "## *6.1. StandardScaler*"
   ]
  },
  {
   "cell_type": "markdown",
   "metadata": {
    "id": "TYZAQ1JBuAZc"
   },
   "source": [
    "**Usage**: It centers the data and scale it to the lowest unit."
   ]
  },
  {
   "cell_type": "code",
   "execution_count": 18,
   "metadata": {
    "colab": {
     "base_uri": "https://localhost:8080/"
    },
    "id": "Ixy00AKQS7N0",
    "outputId": "1f8c31ee-7061-4c36-cf52-d170f504a01b"
   },
   "outputs": [
    {
     "data": {
      "text/plain": [
       "array([[ 1., -1.,  2.],\n",
       "       [ 2.,  0.,  0.],\n",
       "       [ 0.,  1., -1.]])"
      ]
     },
     "execution_count": 18,
     "metadata": {},
     "output_type": "execute_result"
    }
   ],
   "source": [
    "import numpy as np\n",
    "\n",
    "X_train = np.array([[ 1., -1.,  2.],\n",
    "                     [ 2.,  0.,  0.],\n",
    "                     [ 0.,  1., -1.]])\n",
    "\n",
    "X_train"
   ]
  },
  {
   "cell_type": "code",
   "execution_count": 19,
   "metadata": {
    "colab": {
     "base_uri": "https://localhost:8080/"
    },
    "id": "yGKO7iyDTRRg",
    "outputId": "b687ca6a-7537-4cef-ef51-bc3f146223b9"
   },
   "outputs": [
    {
     "data": {
      "text/plain": [
       "array([[ 0.        , -1.22474487,  1.33630621],\n",
       "       [ 1.22474487,  0.        , -0.26726124],\n",
       "       [-1.22474487,  1.22474487, -1.06904497]])"
      ]
     },
     "execution_count": 19,
     "metadata": {},
     "output_type": "execute_result"
    }
   ],
   "source": [
    "from sklearn.preprocessing import StandardScaler\n",
    "scaler = StandardScaler()\n",
    "X_scaled = scaler.fit_transform(X_train)\n",
    "X_scaled"
   ]
  },
  {
   "cell_type": "code",
   "execution_count": 20,
   "metadata": {
    "colab": {
     "base_uri": "https://localhost:8080/"
    },
    "id": "9mqKKnKETqEm",
    "outputId": "f495449d-3a95-4b2c-cd49-467925e5381f"
   },
   "outputs": [
    {
     "name": "stdout",
     "output_type": "stream",
     "text": [
      "Mean = [0. 0. 0.]\n",
      "Standard deviation = [1. 1. 1.]\n"
     ]
    }
   ],
   "source": [
    "# Measure the mean & std of each row\n",
    "print(f'Mean = {X_scaled.mean(axis=0)}')\n",
    "print(f'Standard deviation = {X_scaled.std(axis=0)}')"
   ]
  },
  {
   "cell_type": "markdown",
   "metadata": {
    "id": "z7P9MNSDmbhh"
   },
   "source": [
    "As we can see, StandardScaler normalizes each column and scales it down to unit size."
   ]
  },
  {
   "cell_type": "code",
   "execution_count": 21,
   "metadata": {
    "colab": {
     "base_uri": "https://localhost:8080/"
    },
    "id": "KxxpQBhzEAAm",
    "outputId": "4056788a-aa14-43a8-f89e-e5a1f0789097"
   },
   "outputs": [
    {
     "data": {
      "text/plain": [
       "array([[ 1000., -1000.,  2000.],\n",
       "       [ 2000.,     0.,     0.],\n",
       "       [    0.,  1000., -1000.]])"
      ]
     },
     "execution_count": 21,
     "metadata": {},
     "output_type": "execute_result"
    }
   ],
   "source": [
    "X_train2 = X_train * 1000\n",
    "\n",
    "X_train2"
   ]
  },
  {
   "cell_type": "code",
   "execution_count": 22,
   "metadata": {
    "colab": {
     "base_uri": "https://localhost:8080/"
    },
    "id": "UHhJf5NvEFMR",
    "outputId": "0fbff167-3435-4055-b460-7ed45e0e0576"
   },
   "outputs": [
    {
     "data": {
      "text/plain": [
       "array([[ 0.        , -1.22474487,  1.33630621],\n",
       "       [ 1.22474487,  0.        , -0.26726124],\n",
       "       [-1.22474487,  1.22474487, -1.06904497]])"
      ]
     },
     "execution_count": 22,
     "metadata": {},
     "output_type": "execute_result"
    }
   ],
   "source": [
    "from sklearn.preprocessing import StandardScaler\n",
    "scaler = StandardScaler()\n",
    "X_scaled = scaler.fit_transform(X_train)\n",
    "\n",
    "X_scaled"
   ]
  },
  {
   "cell_type": "code",
   "execution_count": 23,
   "metadata": {
    "colab": {
     "base_uri": "https://localhost:8080/"
    },
    "id": "C6j6vIljEKgP",
    "outputId": "dcfaffba-9ace-420b-d7af-5c584e3cdd0a"
   },
   "outputs": [
    {
     "name": "stdout",
     "output_type": "stream",
     "text": [
      "Mean = [0. 0. 0.]\n",
      "Standard deviation = [1. 1. 1.]\n"
     ]
    }
   ],
   "source": [
    "print(f'Mean = {X_scaled.mean(axis=0)}')\n",
    "print(f'Standard deviation = {X_scaled.std(axis=0)}')"
   ]
  },
  {
   "cell_type": "markdown",
   "metadata": {
    "id": "fr0DCmsiEW8y"
   },
   "source": [
    "It doesn't matter whether it is 1000 or 1, if the ratio is the same, StandardScaler scales it to the same unit size."
   ]
  },
  {
   "cell_type": "markdown",
   "metadata": {
    "id": "usSQocs6pwOF"
   },
   "source": [
    "## *6.2. MinMaxScaler*"
   ]
  },
  {
   "cell_type": "markdown",
   "metadata": {
    "id": "cqDPH46YqkHy"
   },
   "source": [
    "**Usage**: It scales each feature to a given range, which defaults at [0,1] --> Great for binary classification<br>\n",
    "**Note**: It is highly sensitive to outliers"
   ]
  },
  {
   "cell_type": "code",
   "execution_count": 24,
   "metadata": {
    "colab": {
     "base_uri": "https://localhost:8080/"
    },
    "id": "dNt6J7ZopzMy",
    "outputId": "78699b02-0cc4-4f4a-8cb7-b767a68be3bd"
   },
   "outputs": [
    {
     "data": {
      "text/plain": [
       "array([[ 1., -1.,  2.],\n",
       "       [ 2.,  0.,  0.],\n",
       "       [ 0.,  1., -1.]])"
      ]
     },
     "execution_count": 24,
     "metadata": {},
     "output_type": "execute_result"
    }
   ],
   "source": [
    "X = np.array([[ 1., -1.,  2.],\n",
    "              [ 2.,  0.,  0.],\n",
    "              [ 0.,  1., -1.]])\n",
    "\n",
    "X"
   ]
  },
  {
   "cell_type": "code",
   "execution_count": 25,
   "metadata": {
    "colab": {
     "base_uri": "https://localhost:8080/"
    },
    "id": "V3pM67zZq6KM",
    "outputId": "77316f7f-e96f-40df-8e77-d3fc98986cd1"
   },
   "outputs": [
    {
     "data": {
      "text/plain": [
       "array([[0.5       , 0.        , 1.        ],\n",
       "       [1.        , 0.5       , 0.33333333],\n",
       "       [0.        , 1.        , 0.        ]])"
      ]
     },
     "execution_count": 25,
     "metadata": {},
     "output_type": "execute_result"
    }
   ],
   "source": [
    "from sklearn.preprocessing import MinMaxScaler\n",
    "min_max_scaler = MinMaxScaler()\n",
    "X_scaled = min_max_scaler.fit_transform(X)\n",
    "X_scaled"
   ]
  },
  {
   "cell_type": "code",
   "execution_count": 26,
   "metadata": {
    "colab": {
     "base_uri": "https://localhost:8080/"
    },
    "id": "-af_howBa8JD",
    "outputId": "fe5619ce-d790-41b9-c34f-6fc3fff7910d"
   },
   "outputs": [
    {
     "name": "stdout",
     "output_type": "stream",
     "text": [
      "Mean = [0.5        0.5        0.44444444]\n",
      "Standard deviation = [0.40824829 0.40824829 0.41573971]\n"
     ]
    }
   ],
   "source": [
    "print(f'Mean = {X_scaled.mean(axis=0)}')\n",
    "print(f'Standard deviation = {X_scaled.std(axis=0)}')"
   ]
  },
  {
   "cell_type": "markdown",
   "metadata": {
    "id": "fOlQbzwMm0Nl"
   },
   "source": [
    "As seen above, MinMaxScaler doesn't normalize each column.<br>\n",
    "Instead, it squashes data down to the range of [0, 1]"
   ]
  },
  {
   "cell_type": "code",
   "execution_count": 27,
   "metadata": {
    "colab": {
     "base_uri": "https://localhost:8080/"
    },
    "id": "oWV1OZMMv4DI",
    "outputId": "0b536201-b1dc-4258-a100-28546b72da10"
   },
   "outputs": [
    {
     "data": {
      "text/plain": [
       "array([[ 0., -3.,  3.],\n",
       "       [ 3.,  0., -1.],\n",
       "       [-3.,  3., -3.]])"
      ]
     },
     "execution_count": 27,
     "metadata": {},
     "output_type": "execute_result"
    }
   ],
   "source": [
    "# You can also customize the range\n",
    "min_max_scaler = MinMaxScaler(feature_range=(-3,3))\n",
    "X_scaled = min_max_scaler.fit_transform(X)\n",
    "X_scaled"
   ]
  },
  {
   "cell_type": "code",
   "execution_count": 28,
   "metadata": {
    "colab": {
     "base_uri": "https://localhost:8080/"
    },
    "id": "yNgQoCwMb4bE",
    "outputId": "d242f312-28c1-4376-9ecd-24988b0ef80b"
   },
   "outputs": [
    {
     "name": "stdout",
     "output_type": "stream",
     "text": [
      "Mean = [ 0.          0.         -0.33333333]\n",
      "Standard deviation = [2.44948974 2.44948974 2.49443826]\n"
     ]
    }
   ],
   "source": [
    "print(f'Mean = {X_scaled.mean(axis=0)}')\n",
    "print(f'Standard deviation = {X_scaled.std(axis=0)}')"
   ]
  },
  {
   "cell_type": "markdown",
   "metadata": {
    "id": "v81xNP2Foc3I"
   },
   "source": [
    "MinMaxScaler works by replacing each column's Min & Max, and then scale everything else accordingly."
   ]
  },
  {
   "cell_type": "markdown",
   "metadata": {
    "id": "g-ZO8pY1uu-2"
   },
   "source": [
    "## *6.3. MaxAbsScaler*"
   ]
  },
  {
   "cell_type": "markdown",
   "metadata": {
    "id": "BjqAkyPtuz4p"
   },
   "source": [
    "**Usage**: It scales each feature to a [-1,1] based on the absolute max.<br>\n",
    "**Note**: It only works well for data that is already centered at zero or sparse data"
   ]
  },
  {
   "cell_type": "code",
   "execution_count": 29,
   "metadata": {
    "colab": {
     "base_uri": "https://localhost:8080/"
    },
    "id": "3ncXAp6QvA-1",
    "outputId": "cbee079e-5153-43ea-d77b-4e3d7e040c88"
   },
   "outputs": [
    {
     "data": {
      "text/plain": [
       "array([[ 1., -1.,  2.],\n",
       "       [ 2.,  0.,  0.],\n",
       "       [ 0.,  1., -1.]])"
      ]
     },
     "execution_count": 29,
     "metadata": {},
     "output_type": "execute_result"
    }
   ],
   "source": [
    "X = np.array([[ 1., -1.,  2.],\n",
    "              [ 2.,  0.,  0.],\n",
    "              [ 0.,  1., -1.]])\n",
    "\n",
    "X"
   ]
  },
  {
   "cell_type": "code",
   "execution_count": 30,
   "metadata": {
    "colab": {
     "base_uri": "https://localhost:8080/"
    },
    "id": "yy2La-tEw9nN",
    "outputId": "5b53dacb-eac7-4b32-c2d2-c6604bf0c419"
   },
   "outputs": [
    {
     "data": {
      "text/plain": [
       "array([[ 0.5, -1. ,  1. ],\n",
       "       [ 1. ,  0. ,  0. ],\n",
       "       [ 0. ,  1. , -0.5]])"
      ]
     },
     "execution_count": 30,
     "metadata": {},
     "output_type": "execute_result"
    }
   ],
   "source": [
    "from sklearn.preprocessing import MaxAbsScaler\n",
    "scaler = MaxAbsScaler()\n",
    "X_scaled = scaler.fit_transform(X)\n",
    "X_scaled"
   ]
  },
  {
   "cell_type": "code",
   "execution_count": 31,
   "metadata": {
    "colab": {
     "base_uri": "https://localhost:8080/"
    },
    "id": "MigE9Hlgnhcb",
    "outputId": "41a70d9c-8269-47ee-97d4-6b0bd629c517"
   },
   "outputs": [
    {
     "name": "stdout",
     "output_type": "stream",
     "text": [
      "Mean = [0.5        0.         0.16666667]\n",
      "Standard deviation = [0.40824829 0.81649658 0.62360956]\n"
     ]
    }
   ],
   "source": [
    "print(f'Mean = {X_scaled.mean(axis=0)}')\n",
    "print(f'Standard deviation = {X_scaled.std(axis=0)}')"
   ]
  },
  {
   "cell_type": "markdown",
   "metadata": {
    "id": "Oy6wZt8poDKp"
   },
   "source": [
    "MaxAbsScaler doesn't normalize each column. <br>\n",
    "It scales everything down to unit size based on the Absolute Max of the entire dataset. "
   ]
  },
  {
   "cell_type": "markdown",
   "metadata": {
    "id": "yYqFELOXvBoa"
   },
   "source": [
    "## *6.4. RobustScaler*\n"
   ]
  },
  {
   "cell_type": "markdown",
   "metadata": {
    "id": "LgXNbEpZvf6R"
   },
   "source": [
    "**Usage**: It removes outliers and scale data based on quantile range.<br>\n",
    "**Note**: It works well for data with a lot of outliers"
   ]
  },
  {
   "cell_type": "code",
   "execution_count": 32,
   "metadata": {
    "colab": {
     "base_uri": "https://localhost:8080/"
    },
    "id": "OrsAEbE3xeAv",
    "outputId": "e42bb83f-f45c-48f4-c729-f78657729790"
   },
   "outputs": [
    {
     "data": {
      "text/plain": [
       "array([[ 1., -1.,  2.],\n",
       "       [ 2.,  0.,  0.],\n",
       "       [ 0.,  1., -1.]])"
      ]
     },
     "execution_count": 32,
     "metadata": {},
     "output_type": "execute_result"
    }
   ],
   "source": [
    "X = np.array([[ 1., -1.,  2.],\n",
    "              [ 2.,  0.,  0.],\n",
    "              [ 0.,  1., -1.]])\n",
    "\n",
    "X"
   ]
  },
  {
   "cell_type": "code",
   "execution_count": 33,
   "metadata": {
    "colab": {
     "base_uri": "https://localhost:8080/"
    },
    "id": "9s69uHyHxh3Y",
    "outputId": "2dc79837-3f90-4847-81d6-dcd28a8aa17f"
   },
   "outputs": [
    {
     "data": {
      "text/plain": [
       "array([[ 0.        , -1.        ,  1.33333333],\n",
       "       [ 1.        ,  0.        ,  0.        ],\n",
       "       [-1.        ,  1.        , -0.66666667]])"
      ]
     },
     "execution_count": 33,
     "metadata": {},
     "output_type": "execute_result"
    }
   ],
   "source": [
    "from sklearn.preprocessing import RobustScaler\n",
    "scaler = RobustScaler()\n",
    "X_scaled = scaler.fit_transform(X)\n",
    "X_scaled"
   ]
  },
  {
   "cell_type": "code",
   "execution_count": 34,
   "metadata": {
    "colab": {
     "base_uri": "https://localhost:8080/"
    },
    "id": "ZpU48cbKqxYQ",
    "outputId": "9c353303-306c-41f4-eaa5-8601a144a41c"
   },
   "outputs": [
    {
     "name": "stdout",
     "output_type": "stream",
     "text": [
      "Mean = [0.         0.         0.22222222]\n",
      "Standard deviation = [0.81649658 0.81649658 0.83147942]\n"
     ]
    }
   ],
   "source": [
    "print(f'Mean = {X_scaled.mean(axis=0)}')\n",
    "print(f'Standard deviation = {X_scaled.std(axis=0)}')"
   ]
  },
  {
   "cell_type": "markdown",
   "metadata": {
    "id": "bArfePk6riHF"
   },
   "source": [
    "As seen above, MinMaxScaler doesn't normalize each column.<br>\n",
    "It scales each column by subtracting the median and then dividing the result by the interquartile range (75% value — 25% value)"
   ]
  },
  {
   "cell_type": "code",
   "execution_count": 35,
   "metadata": {
    "colab": {
     "base_uri": "https://localhost:8080/"
    },
    "id": "GhcGpWSyxrWW",
    "outputId": "d9fea6e8-8eaa-4c54-f1cf-2113003dfba8"
   },
   "outputs": [
    {
     "data": {
      "text/plain": [
       "array([[  0. , -62.5, 125. ],\n",
       "       [ 62.5,   0. ,   0. ],\n",
       "       [-62.5,  62.5, -62.5]])"
      ]
     },
     "execution_count": 35,
     "metadata": {},
     "output_type": "execute_result"
    }
   ],
   "source": [
    "# You can also specify the quantile range\n",
    "from sklearn.preprocessing import RobustScaler\n",
    "scaler = RobustScaler(quantile_range = (0.1,0.9))\n",
    "X_scaled = scaler.fit_transform(X)\n",
    "X_scaled"
   ]
  },
  {
   "cell_type": "code",
   "execution_count": 36,
   "metadata": {
    "colab": {
     "base_uri": "https://localhost:8080/"
    },
    "id": "X_YOT9n_rbka",
    "outputId": "2b8e3f62-1d2a-41e7-d6d5-66227894ca6d"
   },
   "outputs": [
    {
     "name": "stdout",
     "output_type": "stream",
     "text": [
      "Mean = [ 0.          0.         20.83333333]\n",
      "Standard deviation = [51.03103631 51.03103631 77.95119556]\n"
     ]
    }
   ],
   "source": [
    "print(f'Mean = {X_scaled.mean(axis=0)}')\n",
    "print(f'Standard deviation = {X_scaled.std(axis=0)}')"
   ]
  },
  {
   "cell_type": "markdown",
   "metadata": {
    "id": "szzZAZN7s_0i"
   },
   "source": [
    "Theoretically, it can scale based on specific quantile range.<br>\n",
    "However, such action may result in inaccurate scaling, so we should stick to the default settings."
   ]
  },
  {
   "cell_type": "markdown",
   "metadata": {
    "id": "oLQYwS1m812Y"
   },
   "source": [
    "# **7. Normalization**"
   ]
  },
  {
   "cell_type": "markdown",
   "metadata": {
    "id": "6PnSNLK3Bsad"
   },
   "source": [
    "**Usage**: it scales individual samples to have unit norm.<br>\n",
    "**Note**:\n",
    "1.   It is a common operation for TEXT CLASSIFICATION or CLUSTERING\n",
    "2.   Normalizing is a row-wise operation, standardization is a column-wise operation"
   ]
  },
  {
   "cell_type": "markdown",
   "metadata": {
    "id": "PpIjwHEEDBPk"
   },
   "source": [
    "## *7.1. Max*"
   ]
  },
  {
   "cell_type": "markdown",
   "metadata": {
    "id": "JSFbvLdmDKac"
   },
   "source": [
    "x_normalized = x / max(abs(X))"
   ]
  },
  {
   "cell_type": "code",
   "execution_count": 37,
   "metadata": {
    "colab": {
     "base_uri": "https://localhost:8080/"
    },
    "id": "rXvU1z8i86A6",
    "outputId": "4ccc8821-4267-40fa-8873-b71be3426934"
   },
   "outputs": [
    {
     "data": {
      "text/plain": [
       "array([[ 0.5, -0.5,  1. ],\n",
       "       [ 1. ,  0. ,  0. ],\n",
       "       [ 0. ,  1. , -1. ]])"
      ]
     },
     "execution_count": 37,
     "metadata": {},
     "output_type": "execute_result"
    }
   ],
   "source": [
    "from sklearn.preprocessing import normalize\n",
    "X = [[ 1., -1.,  2.],\n",
    "     [ 2.,  0.,  0.],\n",
    "     [ 0.,  1., -1.]]\n",
    "\n",
    "X_normalized = normalize(X, norm='max')\n",
    "\n",
    "X_normalized"
   ]
  },
  {
   "cell_type": "code",
   "execution_count": 38,
   "metadata": {
    "colab": {
     "base_uri": "https://localhost:8080/"
    },
    "id": "u34Kp0XCtqg0",
    "outputId": "d4fb2056-bfe4-46d0-a3bb-15d5dd94ee93"
   },
   "outputs": [
    {
     "name": "stdout",
     "output_type": "stream",
     "text": [
      "Mean = [0.33333333 0.33333333 0.        ]\n",
      "Standard deviation = [0.62360956 0.47140452 0.81649658]\n"
     ]
    }
   ],
   "source": [
    "print(f'Mean = {X_normalized.mean(axis=1)}')\n",
    "print(f'Standard deviation = {X_normalized.std(axis=1)}')"
   ]
  },
  {
   "cell_type": "markdown",
   "metadata": {
    "id": "OmtdkHngDqO5"
   },
   "source": [
    "## *7.2. L1*"
   ]
  },
  {
   "cell_type": "markdown",
   "metadata": {
    "id": "G-gsdlJ9DxZg"
   },
   "source": [
    "x_normalized = x / sum(abs(X))"
   ]
  },
  {
   "cell_type": "code",
   "execution_count": 39,
   "metadata": {
    "colab": {
     "base_uri": "https://localhost:8080/"
    },
    "id": "LYHXt11mD-UY",
    "outputId": "3921bac4-d94a-47e8-e645-a78f1a48b3b0"
   },
   "outputs": [
    {
     "data": {
      "text/plain": [
       "array([[ 0.25, -0.25,  0.5 ],\n",
       "       [ 1.  ,  0.  ,  0.  ],\n",
       "       [ 0.  ,  0.5 , -0.5 ]])"
      ]
     },
     "execution_count": 39,
     "metadata": {},
     "output_type": "execute_result"
    }
   ],
   "source": [
    "from sklearn.preprocessing import normalize\n",
    "X = [[ 1., -1.,  2.],\n",
    "     [ 2.,  0.,  0.],\n",
    "     [ 0.,  1., -1.]]\n",
    "\n",
    "X_normalized = normalize(X, norm='l1')\n",
    "\n",
    "X_normalized"
   ]
  },
  {
   "cell_type": "code",
   "execution_count": 40,
   "metadata": {
    "colab": {
     "base_uri": "https://localhost:8080/"
    },
    "id": "6uTZ4GYstiVA",
    "outputId": "58bc3cc3-b6ae-4ba2-fe8c-7c252bfbfb7b"
   },
   "outputs": [
    {
     "name": "stdout",
     "output_type": "stream",
     "text": [
      "Mean = [0.16666667 0.33333333 0.        ]\n",
      "Standard deviation = [0.31180478 0.47140452 0.40824829]\n"
     ]
    }
   ],
   "source": [
    "print(f'Mean = {X_normalized.mean(axis=1)}')\n",
    "print(f'Standard deviation = {X_normalized.std(axis=1)}')"
   ]
  },
  {
   "cell_type": "markdown",
   "metadata": {
    "id": "VD6aF27yEHgy"
   },
   "source": [
    "## *7.3. L2*"
   ]
  },
  {
   "cell_type": "markdown",
   "metadata": {
    "id": "OXadXfSlEKth"
   },
   "source": [
    "x_normalized = x / sqrt(sum((i**2) for i in X))"
   ]
  },
  {
   "cell_type": "code",
   "execution_count": 41,
   "metadata": {
    "colab": {
     "base_uri": "https://localhost:8080/"
    },
    "id": "dvfxHBWUEOQy",
    "outputId": "62a5ab1f-7b06-44fe-cf1c-b6c619f0c062"
   },
   "outputs": [
    {
     "data": {
      "text/plain": [
       "array([[ 0.40824829, -0.40824829,  0.81649658],\n",
       "       [ 1.        ,  0.        ,  0.        ],\n",
       "       [ 0.        ,  0.70710678, -0.70710678]])"
      ]
     },
     "execution_count": 41,
     "metadata": {},
     "output_type": "execute_result"
    }
   ],
   "source": [
    "from sklearn.preprocessing import normalize\n",
    "X = [[ 1., -1.,  2.],\n",
    "     [ 2.,  0.,  0.],\n",
    "     [ 0.,  1., -1.]]\n",
    "\n",
    "X_normalized = normalize(X, norm='l2')\n",
    "\n",
    "X_normalized"
   ]
  },
  {
   "cell_type": "code",
   "execution_count": 42,
   "metadata": {
    "colab": {
     "base_uri": "https://localhost:8080/"
    },
    "id": "J67awbCOtyEf",
    "outputId": "a0892a2b-2519-4218-f0e6-e4f2ed0de171"
   },
   "outputs": [
    {
     "name": "stdout",
     "output_type": "stream",
     "text": [
      "Mean = [0.27216553 0.33333333 0.        ]\n",
      "Standard deviation = [0.50917508 0.47140452 0.57735027]\n"
     ]
    }
   ],
   "source": [
    "print(f'Mean = {X_normalized.mean(axis=1)}')\n",
    "print(f'Standard deviation = {X_normalized.std(axis=1)}')"
   ]
  },
  {
   "cell_type": "markdown",
   "metadata": {
    "id": "zVlNqLhpnKJp"
   },
   "source": [
    "# **8. Non-linear transformation**"
   ]
  },
  {
   "cell_type": "markdown",
   "metadata": {
    "id": "BP0cbwMQHaHt"
   },
   "source": [
    "## *8.1. QuantileTransformer*"
   ]
  },
  {
   "cell_type": "markdown",
   "metadata": {
    "id": "U9c8pl941wpx"
   },
   "source": [
    "Source: https://machinelearningmastery.com/quantile-transforms-for-machine-learning/<br>\n",
    "In-depth research: https://www.nature.com/articles/s41598-020-72664-6.pdf"
   ]
  },
  {
   "cell_type": "markdown",
   "metadata": {
    "id": "qhjjpj1-HkYB"
   },
   "source": [
    "**Usage**:  <br>\n",
    "**Note**: it has 2 options for output_distribution (uniform, normal), with the default being *uniform*"
   ]
  },
  {
   "cell_type": "code",
   "execution_count": 43,
   "metadata": {
    "colab": {
     "base_uri": "https://localhost:8080/",
     "height": 281
    },
    "id": "-XG0bzG9ncEj",
    "outputId": "84face6a-46b6-494e-f645-f13688d77d81"
   },
   "outputs": [
    {
     "data": {
      "image/png": "[encoded data removed]",
      "text/plain": [
       "<Figure size 432x288 with 1 Axes>"
      ]
     },
     "metadata": {
      "needs_background": "light"
     },
     "output_type": "display_data"
    }
   ],
   "source": [
    "# demonstration of the quantile transform\n",
    "from numpy import exp\n",
    "from numpy.random import randn\n",
    "from sklearn.preprocessing import QuantileTransformer\n",
    "import matplotlib.pyplot as plt\n",
    "\n",
    "# generate gaussian data sample\n",
    "data = randn(1000)\n",
    "\n",
    "# add a skew to the data distribution\n",
    "data = exp(data)\n",
    "\n",
    "# histogram of the raw data with a skew\n",
    "plt.hist(data, bins=25)\n",
    "plt.title('Original data')\n",
    "plt.show()"
   ]
  },
  {
   "cell_type": "code",
   "execution_count": 44,
   "metadata": {
    "colab": {
     "base_uri": "https://localhost:8080/",
     "height": 281
    },
    "id": "nTUBFAGv2j9X",
    "outputId": "eb1615e1-1812-41d4-d655-9b52275533e3"
   },
   "outputs": [
    {
     "data": {
      "image/png": "[encoded data removed]",
      "text/plain": [
       "<Figure size 432x288 with 1 Axes>"
      ]
     },
     "metadata": {
      "needs_background": "light"
     },
     "output_type": "display_data"
    }
   ],
   "source": [
    "# reshape data to have rows and columns\n",
    "data = data.reshape((len(data),1))\n",
    "\n",
    "# quantile transform the raw data\n",
    "quantile = QuantileTransformer(output_distribution='normal')\n",
    "data_trans = quantile.fit_transform(data)\n",
    "\n",
    "# histogram of the transformed data\n",
    "plt.hist(data_trans, bins=25)\n",
    "plt.title('Transformed data')\n",
    "plt.show()"
   ]
  },
  {
   "cell_type": "markdown",
   "metadata": {
    "id": "nAzFDVwaqD1n"
   },
   "source": [
    "Quantile transformer always transform data into a Gaussian distribution. <br> \n",
    "However, if applied blindly to the whole dataset, it will distort the entire linear relationship <br>\n",
    "Best practice is:  \n",
    "1.   Split each class/feature out\n",
    "2.   Apply QuantileTransformer\n",
    "3.   Merge the data back"
   ]
  },
  {
   "cell_type": "markdown",
   "metadata": {
    "id": "hPHXz6stHeA1"
   },
   "source": [
    "## *8.2. PowerTransformer*"
   ]
  },
  {
   "cell_type": "markdown",
   "metadata": {
    "id": "AUPQM8x4IN0F"
   },
   "source": [
    "**Usage**: it maps data from any distribution to as close to a Gaussian distribution as possible to stabilize variance and minimize skewness<br>\n",
    "**Note**<br>\n",
    "There are two types, Yeo-Johnson and Box-Cox:\n",
    "*   *Yeo-Johnson*: works for all values, but too complex to explain to everyone.\n",
    "*   *Box-Cox*: works for strictly positive data only, but easily explanable to everyone\n",
    "\n"
   ]
  },
  {
   "cell_type": "code",
   "execution_count": 45,
   "metadata": {
    "colab": {
     "base_uri": "https://localhost:8080/"
    },
    "id": "LoGzfCAVgceE",
    "outputId": "2f6ac67a-a1c0-47eb-e0be-e48ca529185f"
   },
   "outputs": [
    {
     "data": {
      "text/plain": [
       "array([[1.28331718, 1.18092228, 0.84160269],\n",
       "       [0.94293279, 1.60960836, 0.3879099 ],\n",
       "       [1.35235668, 0.21715673, 1.09977091],\n",
       "       [0.98751217, 3.10856524, 1.64193898],\n",
       "       [0.88024529, 0.21202234, 4.17198777]])"
      ]
     },
     "execution_count": 45,
     "metadata": {},
     "output_type": "execute_result"
    }
   ],
   "source": [
    "X = np.random.RandomState(616).lognormal(size=(100, 3))\n",
    "X[:5,:]"
   ]
  },
  {
   "cell_type": "code",
   "execution_count": 46,
   "metadata": {
    "colab": {
     "base_uri": "https://localhost:8080/",
     "height": 516
    },
    "id": "xtSZs_5TiAKj",
    "outputId": "4f4987ae-cc86-4787-e25b-a58c80e13e3a"
   },
   "outputs": [
    {
     "data": {
      "text/plain": [
       "Text(0.5, 1.0, 'Yeo-Johnson')"
      ]
     },
     "execution_count": 46,
     "metadata": {},
     "output_type": "execute_result"
    },
    {
     "data": {
      "image/png": "[encoded data removed]",
      "text/plain": [
       "<Figure size 1296x432 with 3 Axes>"
      ]
     },
     "metadata": {
      "needs_background": "light"
     },
     "output_type": "display_data"
    }
   ],
   "source": [
    "from sklearn.preprocessing import PowerTransformer\n",
    "import seaborn as sns\n",
    "\n",
    "# Define the settings for each subplot\n",
    "f = plt.figure(figsize=(18,6))\n",
    "f.subplots_adjust(wspace=.5, hspace=.5)\n",
    "\n",
    "# Original data\n",
    "ax = f.add_subplot(1,3,1)\n",
    "sns.histplot(X, bins=20, color='r', ax=ax)\n",
    "ax.set_title('Raw data')\n",
    "\n",
    "# BoxCox transform\n",
    "box_cox = PowerTransformer(method='box-cox', standardize=True)\n",
    "data_boxcox = box_cox.fit_transform(X)\n",
    "\n",
    "ax = f.add_subplot(1,3,2)\n",
    "sns.histplot(data_boxcox, bins=20, color='g', ax=ax)\n",
    "ax.set_title('Boxcox')\n",
    "\n",
    "# Yeo-Johnson tranform\n",
    "yeo_johnson = PowerTransformer(method='yeo-johnson', standardize=True)\n",
    "data_yeo_johnson = yeo_johnson.fit_transform(X)\n",
    "\n",
    "ax = f.add_subplot(1,3,3)\n",
    "sns.histplot(data_yeo_johnson, bins=20, color='b', ax=ax)\n",
    "ax.set_title('Yeo-Johnson')"
   ]
  },
  {
   "cell_type": "markdown",
   "metadata": {
    "id": "4WCR9FQAlPaC"
   },
   "source": [
    "BoxCox tends to be slightly better.<br>\n",
    "However, it doesn't work for 0 and negative values, unlike Yeo-Johnson."
   ]
  },
  {
   "cell_type": "markdown",
   "metadata": {
    "id": "OlgSrOjBnyH3"
   },
   "source": [
    "# **9. Measure & Remove multicollinear**"
   ]
  },
  {
   "cell_type": "markdown",
   "metadata": {
    "id": "Gv6WyQC_IJjB"
   },
   "source": [
    "Dataset: https://www.kaggle.com/nehalbirla/vehicle-dataset-from-cardekho"
   ]
  },
  {
   "cell_type": "code",
   "execution_count": 47,
   "metadata": {
    "id": "fpw0wWdmIm4k"
   },
   "outputs": [],
   "source": [
    "import pandas as pd\n",
    "import numpy as np"
   ]
  },
  {
   "cell_type": "code",
   "execution_count": 48,
   "metadata": {
    "id": "QthxBUvkI52Q"
   },
   "outputs": [
    {
     "data": {
      "text/html": [
       "<div>\n",
       "<style scoped>\n",
       "    .dataframe tbody tr th:only-of-type {\n",
       "        vertical-align: middle;\n",
       "    }\n",
       "\n",
       "    .dataframe tbody tr th {\n",
       "        vertical-align: top;\n",
       "    }\n",
       "\n",
       "    .dataframe thead th {\n",
       "        text-align: right;\n",
       "    }\n",
       "</style>\n",
       "<table border=\"1\" class=\"dataframe\">\n",
       "  <thead>\n",
       "    <tr style=\"text-align: right;\">\n",
       "      <th></th>\n",
       "      <th>Car_Name</th>\n",
       "      <th>Year</th>\n",
       "      <th>Selling_Price</th>\n",
       "      <th>Present_Price</th>\n",
       "      <th>Kms_Driven</th>\n",
       "      <th>Fuel_Type</th>\n",
       "      <th>Seller_Type</th>\n",
       "      <th>Transmission</th>\n",
       "      <th>Owner</th>\n",
       "    </tr>\n",
       "  </thead>\n",
       "  <tbody>\n",
       "    <tr>\n",
       "      <th>0</th>\n",
       "      <td>ritz</td>\n",
       "      <td>2014</td>\n",
       "      <td>3.35</td>\n",
       "      <td>5.59</td>\n",
       "      <td>27000</td>\n",
       "      <td>Petrol</td>\n",
       "      <td>Dealer</td>\n",
       "      <td>Manual</td>\n",
       "      <td>0</td>\n",
       "    </tr>\n",
       "    <tr>\n",
       "      <th>1</th>\n",
       "      <td>sx4</td>\n",
       "      <td>2013</td>\n",
       "      <td>4.75</td>\n",
       "      <td>9.54</td>\n",
       "      <td>43000</td>\n",
       "      <td>Diesel</td>\n",
       "      <td>Dealer</td>\n",
       "      <td>Manual</td>\n",
       "      <td>0</td>\n",
       "    </tr>\n",
       "    <tr>\n",
       "      <th>2</th>\n",
       "      <td>ciaz</td>\n",
       "      <td>2017</td>\n",
       "      <td>7.25</td>\n",
       "      <td>9.85</td>\n",
       "      <td>6900</td>\n",
       "      <td>Petrol</td>\n",
       "      <td>Dealer</td>\n",
       "      <td>Manual</td>\n",
       "      <td>0</td>\n",
       "    </tr>\n",
       "    <tr>\n",
       "      <th>3</th>\n",
       "      <td>wagon r</td>\n",
       "      <td>2011</td>\n",
       "      <td>2.85</td>\n",
       "      <td>4.15</td>\n",
       "      <td>5200</td>\n",
       "      <td>Petrol</td>\n",
       "      <td>Dealer</td>\n",
       "      <td>Manual</td>\n",
       "      <td>0</td>\n",
       "    </tr>\n",
       "    <tr>\n",
       "      <th>4</th>\n",
       "      <td>swift</td>\n",
       "      <td>2014</td>\n",
       "      <td>4.60</td>\n",
       "      <td>6.87</td>\n",
       "      <td>42450</td>\n",
       "      <td>Diesel</td>\n",
       "      <td>Dealer</td>\n",
       "      <td>Manual</td>\n",
       "      <td>0</td>\n",
       "    </tr>\n",
       "  </tbody>\n",
       "</table>\n",
       "</div>"
      ],
      "text/plain": [
       "  Car_Name  Year  Selling_Price  Present_Price  Kms_Driven Fuel_Type  \\\n",
       "0     ritz  2014           3.35           5.59       27000    Petrol   \n",
       "1      sx4  2013           4.75           9.54       43000    Diesel   \n",
       "2     ciaz  2017           7.25           9.85        6900    Petrol   \n",
       "3  wagon r  2011           2.85           4.15        5200    Petrol   \n",
       "4    swift  2014           4.60           6.87       42450    Diesel   \n",
       "\n",
       "  Seller_Type Transmission  Owner  \n",
       "0      Dealer       Manual      0  \n",
       "1      Dealer       Manual      0  \n",
       "2      Dealer       Manual      0  \n",
       "3      Dealer       Manual      0  \n",
       "4      Dealer       Manual      0  "
      ]
     },
     "execution_count": 48,
     "metadata": {},
     "output_type": "execute_result"
    }
   ],
   "source": [
    "df = pd.read_csv(\"./data/car data.csv\")\n",
    "\n",
    "df.head()"
   ]
  },
  {
   "cell_type": "code",
   "execution_count": 49,
   "metadata": {
    "id": "5d2SxCtKJl4g"
   },
   "outputs": [
    {
     "data": {
      "text/html": [
       "<div>\n",
       "<style scoped>\n",
       "    .dataframe tbody tr th:only-of-type {\n",
       "        vertical-align: middle;\n",
       "    }\n",
       "\n",
       "    .dataframe tbody tr th {\n",
       "        vertical-align: top;\n",
       "    }\n",
       "\n",
       "    .dataframe thead th {\n",
       "        text-align: right;\n",
       "    }\n",
       "</style>\n",
       "<table border=\"1\" class=\"dataframe\">\n",
       "  <thead>\n",
       "    <tr style=\"text-align: right;\">\n",
       "      <th></th>\n",
       "      <th>Year</th>\n",
       "      <th>Selling_Price</th>\n",
       "      <th>Present_Price</th>\n",
       "      <th>Kms_Driven</th>\n",
       "      <th>Owner</th>\n",
       "    </tr>\n",
       "  </thead>\n",
       "  <tbody>\n",
       "    <tr>\n",
       "      <th>0</th>\n",
       "      <td>2014</td>\n",
       "      <td>3.35</td>\n",
       "      <td>5.59</td>\n",
       "      <td>27000</td>\n",
       "      <td>0</td>\n",
       "    </tr>\n",
       "    <tr>\n",
       "      <th>1</th>\n",
       "      <td>2013</td>\n",
       "      <td>4.75</td>\n",
       "      <td>9.54</td>\n",
       "      <td>43000</td>\n",
       "      <td>0</td>\n",
       "    </tr>\n",
       "    <tr>\n",
       "      <th>2</th>\n",
       "      <td>2017</td>\n",
       "      <td>7.25</td>\n",
       "      <td>9.85</td>\n",
       "      <td>6900</td>\n",
       "      <td>0</td>\n",
       "    </tr>\n",
       "    <tr>\n",
       "      <th>3</th>\n",
       "      <td>2011</td>\n",
       "      <td>2.85</td>\n",
       "      <td>4.15</td>\n",
       "      <td>5200</td>\n",
       "      <td>0</td>\n",
       "    </tr>\n",
       "    <tr>\n",
       "      <th>4</th>\n",
       "      <td>2014</td>\n",
       "      <td>4.60</td>\n",
       "      <td>6.87</td>\n",
       "      <td>42450</td>\n",
       "      <td>0</td>\n",
       "    </tr>\n",
       "  </tbody>\n",
       "</table>\n",
       "</div>"
      ],
      "text/plain": [
       "   Year  Selling_Price  Present_Price  Kms_Driven  Owner\n",
       "0  2014           3.35           5.59       27000      0\n",
       "1  2013           4.75           9.54       43000      0\n",
       "2  2017           7.25           9.85        6900      0\n",
       "3  2011           2.85           4.15        5200      0\n",
       "4  2014           4.60           6.87       42450      0"
      ]
     },
     "execution_count": 49,
     "metadata": {},
     "output_type": "execute_result"
    }
   ],
   "source": [
    "X = df.copy()\n",
    "X.drop(columns=['Car_Name', 'Fuel_Type', 'Seller_Type', 'Transmission'], inplace=True, axis=1)\n",
    "\n",
    "X.head()"
   ]
  },
  {
   "cell_type": "code",
   "execution_count": 50,
   "metadata": {
    "id": "ZaVXa_J_oQsn"
   },
   "outputs": [
    {
     "data": {
      "text/html": [
       "<div>\n",
       "<style scoped>\n",
       "    .dataframe tbody tr th:only-of-type {\n",
       "        vertical-align: middle;\n",
       "    }\n",
       "\n",
       "    .dataframe tbody tr th {\n",
       "        vertical-align: top;\n",
       "    }\n",
       "\n",
       "    .dataframe thead th {\n",
       "        text-align: right;\n",
       "    }\n",
       "</style>\n",
       "<table border=\"1\" class=\"dataframe\">\n",
       "  <thead>\n",
       "    <tr style=\"text-align: right;\">\n",
       "      <th></th>\n",
       "      <th>Features</th>\n",
       "      <th>VIF</th>\n",
       "    </tr>\n",
       "  </thead>\n",
       "  <tbody>\n",
       "    <tr>\n",
       "      <th>1</th>\n",
       "      <td>Selling_Price</td>\n",
       "      <td>9.36</td>\n",
       "    </tr>\n",
       "    <tr>\n",
       "      <th>2</th>\n",
       "      <td>Present_Price</td>\n",
       "      <td>9.34</td>\n",
       "    </tr>\n",
       "    <tr>\n",
       "      <th>0</th>\n",
       "      <td>Year</td>\n",
       "      <td>2.78</td>\n",
       "    </tr>\n",
       "    <tr>\n",
       "      <th>3</th>\n",
       "      <td>Kms_Driven</td>\n",
       "      <td>2.22</td>\n",
       "    </tr>\n",
       "    <tr>\n",
       "      <th>4</th>\n",
       "      <td>Owner</td>\n",
       "      <td>1.07</td>\n",
       "    </tr>\n",
       "  </tbody>\n",
       "</table>\n",
       "</div>"
      ],
      "text/plain": [
       "        Features   VIF\n",
       "1  Selling_Price  9.36\n",
       "2  Present_Price  9.34\n",
       "0           Year  2.78\n",
       "3     Kms_Driven  2.22\n",
       "4          Owner  1.07"
      ]
     },
     "execution_count": 50,
     "metadata": {},
     "output_type": "execute_result"
    }
   ],
   "source": [
    "from statsmodels.stats.outliers_influence import variance_inflation_factor\n",
    "vif = pd.DataFrame()\n",
    "\n",
    "vif['Features'] = X.columns\n",
    "vif['VIF'] = [variance_inflation_factor(X.values, i) for i in range(X.shape[1])]\n",
    "vif['VIF'] = round(vif['VIF'], 2)\n",
    "vif = vif.sort_values(by = \"VIF\", ascending = False)\n",
    "\n",
    "vif"
   ]
  },
  {
   "cell_type": "markdown",
   "metadata": {},
   "source": [
    "As you can see, Selling_Price has VIF>5, indicating high collinearity. You should drop it and re-evaluate."
   ]
  },
  {
   "cell_type": "code",
   "execution_count": 51,
   "metadata": {},
   "outputs": [
    {
     "data": {
      "text/html": [
       "<div>\n",
       "<style scoped>\n",
       "    .dataframe tbody tr th:only-of-type {\n",
       "        vertical-align: middle;\n",
       "    }\n",
       "\n",
       "    .dataframe tbody tr th {\n",
       "        vertical-align: top;\n",
       "    }\n",
       "\n",
       "    .dataframe thead th {\n",
       "        text-align: right;\n",
       "    }\n",
       "</style>\n",
       "<table border=\"1\" class=\"dataframe\">\n",
       "  <thead>\n",
       "    <tr style=\"text-align: right;\">\n",
       "      <th></th>\n",
       "      <th>Features</th>\n",
       "      <th>VIF</th>\n",
       "    </tr>\n",
       "  </thead>\n",
       "  <tbody>\n",
       "    <tr>\n",
       "      <th>0</th>\n",
       "      <td>Year</td>\n",
       "      <td>2.41</td>\n",
       "    </tr>\n",
       "    <tr>\n",
       "      <th>2</th>\n",
       "      <td>Kms_Driven</td>\n",
       "      <td>2.00</td>\n",
       "    </tr>\n",
       "    <tr>\n",
       "      <th>1</th>\n",
       "      <td>Present_Price</td>\n",
       "      <td>1.86</td>\n",
       "    </tr>\n",
       "    <tr>\n",
       "      <th>3</th>\n",
       "      <td>Owner</td>\n",
       "      <td>1.04</td>\n",
       "    </tr>\n",
       "  </tbody>\n",
       "</table>\n",
       "</div>"
      ],
      "text/plain": [
       "        Features   VIF\n",
       "0           Year  2.41\n",
       "2     Kms_Driven  2.00\n",
       "1  Present_Price  1.86\n",
       "3          Owner  1.04"
      ]
     },
     "execution_count": 51,
     "metadata": {},
     "output_type": "execute_result"
    }
   ],
   "source": [
    "X = X.drop('Selling_Price', axis=1)\n",
    "\n",
    "vif = pd.DataFrame()\n",
    "vif['Features'] = X.columns\n",
    "vif['VIF'] = [variance_inflation_factor(X.values, i) for i in range(X.shape[1])]\n",
    "vif['VIF'] = round(vif['VIF'], 2)\n",
    "vif = vif.sort_values(by = \"VIF\", ascending = False)\n",
    "\n",
    "vif"
   ]
  },
  {
   "cell_type": "markdown",
   "metadata": {},
   "source": [
    "All features now have VIF<5. We have removed collinearity."
   ]
  }
 ],
 "metadata": {
  "colab": {
   "collapsed_sections": [],
   "name": "Data preprocessing.ipynb",
   "provenance": [],
   "toc_visible": true
  },
  "kernelspec": {
   "display_name": "Python 3",
   "language": "python",
   "name": "python3"
  },
  "language_info": {
   "codemirror_mode": {
    "name": "ipython",
    "version": 3
   },
   "file_extension": ".py",
   "mimetype": "text/x-python",
   "name": "python",
   "nbconvert_exporter": "python",
   "pygments_lexer": "ipython3",
   "version": "3.9.2"
  },
  "varInspector": {
   "cols": {
    "lenName": 16,
    "lenType": 16,
    "lenVar": 40
   },
   "kernels_config": {
    "python": {
     "delete_cmd_postfix": "",
     "delete_cmd_prefix": "del ",
     "library": "var_list.py",
     "varRefreshCmd": "print(var_dic_list())"
    },
    "r": {
     "delete_cmd_postfix": ") ",
     "delete_cmd_prefix": "rm(",
     "library": "var_list.r",
     "varRefreshCmd": "cat(var_dic_list()) "
    }
   },
   "types_to_exclude": [
    "module",
    "function",
    "builtin_function_or_method",
    "instance",
    "_Feature"
   ],
   "window_display": false
  }
 },
 "nbformat": 4,
 "nbformat_minor": 1
}
